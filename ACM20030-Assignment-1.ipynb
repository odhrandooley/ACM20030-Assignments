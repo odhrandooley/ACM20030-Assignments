{
 "cells": [
  {
   "cell_type": "markdown",
   "metadata": {},
   "source": [
    "# ACM20030 Assignment 1\n",
    "__Intoduction to Python__"
   ]
  },
  {
   "cell_type": "markdown",
   "metadata": {},
   "source": [
    "## Question 0"
   ]
  },
  {
   "cell_type": "code",
   "execution_count": 44,
   "metadata": {},
   "outputs": [],
   "source": [
    "# import NumPy\n",
    "import numpy as np\n",
    "# import Matplotlib\n",
    "import matplotlib.pyplot as plt"
   ]
  },
  {
   "cell_type": "markdown",
   "metadata": {},
   "source": [
    "## Question 1 "
   ]
  },
  {
   "cell_type": "code",
   "execution_count": 45,
   "metadata": {},
   "outputs": [],
   "source": [
    "## Part a\n",
    "# Defining a function to compute length of vector (x,y)\n",
    "def VectorLength(x,y):\n",
    "    result = np.sqrt(x**2 + y**2)\n",
    "    return result"
   ]
  },
  {
   "cell_type": "code",
   "execution_count": 46,
   "metadata": {},
   "outputs": [
    {
     "name": "stdout",
     "output_type": "stream",
     "text": [
      "Length of Vector (5,6) =  7.810249675906654\n",
      "\n",
      "Length of Vector (-1,5) =  5.0990195135927845\n"
     ]
    }
   ],
   "source": [
    "## Part b i \n",
    "# Computing length of vector v = (5,6)\n",
    "print(\"Length of Vector (5,6) = \" , VectorLength(5,6))\n",
    "print(\"\")\n",
    "## Part b ii\n",
    "# Computing length of vector v = (-1,5)\n",
    "print(\"Length of Vector (-1,5) = \" , VectorLength(-1,5))"
   ]
  },
  {
   "cell_type": "code",
   "execution_count": 47,
   "metadata": {},
   "outputs": [
    {
     "name": "stdout",
     "output_type": "stream",
     "text": [
      "Sin(1) = 0.841\n"
     ]
    }
   ],
   "source": [
    "## Part c\n",
    "# Printing Sin(1) to 3 decimal places\n",
    "print(\"Sin(1) = %.3f\" % np.sin(1))"
   ]
  },
  {
   "cell_type": "markdown",
   "metadata": {},
   "source": [
    "## Question 2"
   ]
  },
  {
   "cell_type": "code",
   "execution_count": 48,
   "metadata": {},
   "outputs": [],
   "source": [
    "## Inserting function from Assignment 1, Q2\n",
    "\n",
    "# Fuction to check if a number is prime\n",
    "def IsPrime(n):\n",
    "    i=2\n",
    "    while i < np.sqrt(n):\n",
    "        # For each i check if it divides n\n",
    "        if(n % i == 0):\n",
    "            return 0\n",
    "        i += 1\n",
    "    # If no divisors are found, the number is prime\n",
    "    return 1"
   ]
  },
  {
   "cell_type": "code",
   "execution_count": 49,
   "metadata": {},
   "outputs": [
    {
     "name": "stdout",
     "output_type": "stream",
     "text": [
      "1 = 1\n",
      "2 = 1\n",
      "3 = 1\n",
      "4 = 1\n",
      "5 = 1\n",
      "6 = 0\n",
      "7 = 1\n",
      "8 = 0\n",
      "9 = 1\n",
      "10 = 0\n"
     ]
    }
   ],
   "source": [
    "## Part a\n",
    "# Checking functions work from n = 1 to 10\n",
    "for n in range(1,11):\n",
    "    print(n,\"=\",IsPrime(n))\n",
    "#How would i get it so it determines if True/False e.g. if 1 = 1(prime) then return Incorrect\n"
   ]
  },
  {
   "cell_type": "code",
   "execution_count": 50,
   "metadata": {},
   "outputs": [
    {
     "name": "stdout",
     "output_type": "stream",
     "text": [
      "1 = 0\n",
      "2 = 1\n",
      "3 = 1\n",
      "4 = 1\n",
      "5 = 1\n",
      "6 = 0\n",
      "7 = 1\n",
      "8 = 0\n",
      "9 = 1\n",
      "10 = 0\n"
     ]
    }
   ],
   "source": [
    "## Part b\n",
    "def IsPrime1(n):\n",
    "    # adding an if statement to correct n = 1 case \n",
    "    if(n == 1):\n",
    "        return 0\n",
    "    i = 2\n",
    "    while i < np.sqrt(n):\n",
    "        # For each i check if it divides n\n",
    "        if(n % i == 0):\n",
    "            return 0\n",
    "        i += 1\n",
    "    # If no divisors are found, the number is prime\n",
    "    return 1\n",
    "for n in range(1,11):\n",
    "    print(n,\"=\",IsPrime1(n))"
   ]
  },
  {
   "cell_type": "code",
   "execution_count": 51,
   "metadata": {},
   "outputs": [
    {
     "name": "stdout",
     "output_type": "stream",
     "text": [
      "1 = 0\n",
      "2 = 1\n",
      "3 = 1\n",
      "4 = 0\n",
      "5 = 1\n",
      "6 = 0\n",
      "7 = 1\n",
      "8 = 0\n",
      "9 = 0\n",
      "10 = 0\n"
     ]
    }
   ],
   "source": [
    "## Part c\n",
    "\n",
    "def IsPrime2(n):\n",
    "    # adding an if statement to correct n = 1 case \n",
    "    if(n == 1):\n",
    "        return 0\n",
    "    i = 2\n",
    "    while i <= np.sqrt(n): # adjusted < to <=\n",
    "        # For each i check if it divides n\n",
    "        if(n % i == 0):\n",
    "            return 0\n",
    "        i += 1\n",
    "    # If no divisors are found, the number is prime\n",
    "    return 1\n",
    "for n in range(1,11):\n",
    "    print(n,\"=\",IsPrime2(n))\n",
    "    \n",
    "# used print(i), showed 9 was being divided by 2 and 4 by 1, i < np.sqrt(n) did not account for square numbers"
   ]
  },
  {
   "cell_type": "code",
   "execution_count": 66,
   "metadata": {},
   "outputs": [
    {
     "name": "stdout",
     "output_type": "stream",
     "text": [
      "\n",
      "Number of prime numbers from 1 to 1000\n",
      "168\n"
     ]
    }
   ],
   "source": [
    "## Part e\n",
    "#Creating an array to facilitate counting\n",
    "a = np.array([0])\n",
    "#Determining range, whole numbers from 1 to 1000\n",
    "for n in range(1,1001):\n",
    "    #Restricting function only to where n is prime\n",
    "    if IsPrime2(n)==1:\n",
    "        #Increasing a[0] by one for each prime number\n",
    "        a[0]=a[0]+1\n",
    "print(\"\")\n",
    "print(\"Number of prime numbers from 1 to 1000\")\n",
    "#printing the sum of primes\n",
    "print(a[0])\n"
   ]
  },
  {
   "cell_type": "code",
   "execution_count": 69,
   "metadata": {},
   "outputs": [
    {
     "name": "stdout",
     "output_type": "stream",
     "text": [
      "Number of Primes between 1 and 1000  -  168\n",
      "Number of Primes between 1 and 10000 -  1229\n"
     ]
    }
   ],
   "source": [
    "## Part f\n",
    "def PrimeCount(x):\n",
    "    #Copying from Part e\n",
    "    a = np.array([0])\n",
    "    #Generalising range\n",
    "    for n in range(1,x+1):\n",
    "        if IsPrime2(n)==1:\n",
    "            a[0]=a[0]+1\n",
    "    #Adjustment to help plotting\n",
    "    return a[0]\n",
    "print(\"Number of Primes between 1 and 1000  - \",PrimeCount(1000))\n",
    "print(\"Number of Primes between 1 and 10000 - \", PrimeCount(10000))\n",
    "    #printing the sum of primes"
   ]
  },
  {
   "cell_type": "code",
   "execution_count": 103,
   "metadata": {},
   "outputs": [
    {
     "data": {
      "text/plain": [
       "Text(0.5, 1.0, 'Prime numbers below 40 (Fig.1)')"
      ]
     },
     "execution_count": 103,
     "metadata": {},
     "output_type": "execute_result"
    },
    {
     "data": {
      "image/png": "[encoded data removed]",
      "text/plain": [
       "<Figure size 432x288 with 1 Axes>"
      ]
     },
     "metadata": {
      "needs_background": "light"
     },
     "output_type": "display_data"
    }
   ],
   "source": [
    "##Part g\n",
    "#Copying directly from question\n",
    "x = np.arange(0,40,1)\n",
    "Pi = np.zeros(40)\n",
    "i = 0\n",
    "while i < np.size(Pi):\n",
    "    Pi[i] = PrimeCount(i)\n",
    "    i += 1\n",
    "plt.plot(x,Pi,'ro')\n",
    "#Labelling axes\n",
    "plt.xlabel('x')\n",
    "plt.ylabel('Pi(x)')\n",
    "#Adding grid\n",
    "plt.grid(True)\n",
    "#Adding title\n",
    "plt.title('Prime numbers below 40 (Fig.1)')"
   ]
  },
  {
   "cell_type": "markdown",
   "metadata": {},
   "source": [
    "## Question 3"
   ]
  },
  {
   "cell_type": "code",
   "execution_count": 93,
   "metadata": {},
   "outputs": [],
   "source": [
    "##Part b\n",
    "#loading 'Exponential or Power Law' data\n",
    "a = np.loadtxt(r\"C:\\Users\\maure_000\\Desktop\\ACM20030\\PowerLawOrExponential.txt\")\n",
    "x = a[:,0]\n",
    "y = a[:,1]"
   ]
  },
  {
   "cell_type": "code",
   "execution_count": 102,
   "metadata": {},
   "outputs": [
    {
     "data": {
      "image/png": "[encoded data removed]",
      "text/plain": [
       "<Figure size 432x288 with 1 Axes>"
      ]
     },
     "metadata": {
      "needs_background": "light"
     },
     "output_type": "display_data"
    }
   ],
   "source": [
    "##Part c i\n",
    "plt.plot(x,np.log(y))\n",
    "plt.xlabel('Column 1')\n",
    "plt.ylabel('Log(Column 2)')\n",
    "plt.title('Column 1 vs Log(Column 2) (Fig.2)')\n",
    "plt.grid(True)"
   ]
  },
  {
   "cell_type": "code",
   "execution_count": 101,
   "metadata": {},
   "outputs": [
    {
     "data": {
      "image/png": "[encoded data removed]",
      "text/plain": [
       "<Figure size 432x288 with 1 Axes>"
      ]
     },
     "metadata": {
      "needs_background": "light"
     },
     "output_type": "display_data"
    }
   ],
   "source": [
    "##Part c ii\n",
    "plt.plot(np.log(x),np.log(y))\n",
    "plt.xlabel('log(Column 1)')\n",
    "plt.ylabel('Log(Column 2)')\n",
    "plt.title('log(Column 1) vs Log(Column 2) (Fig.3)')\n",
    "plt.grid(True)"
   ]
  },
  {
   "cell_type": "markdown",
   "metadata": {},
   "source": [
    "### Part d  \n",
    "\n",
    "The data is a representation of the $x^n$ Power Law.  \n",
    "Taking a log-log plot of the data gives a straight line, this can be interpreted as:  \n",
    "  \n",
    "- $log(y)=nlog(x)$ where n is the slope of the line  \n",
    "- By the laws of logs, this gives $log(y)=log(x^n)$, and so $y=x^n$   \n",
    "  \n",
    "An exponential relationship would have given a straight line by the log plot alone."
   ]
  },
  {
   "cell_type": "markdown",
   "metadata": {},
   "source": [
    "### Part e  \n",
    "  \n",
    "The value of n as stated above is the slope of the line.  \n",
    "  \n",
    "Using the grid in Fig.3, for one unit increase in x, the y value increases by 2.  \n",
    "Hence n = 2"
   ]
  },
  {
   "cell_type": "code",
   "execution_count": null,
   "metadata": {},
   "outputs": [],
   "source": []
  },
  {
   "cell_type": "code",
   "execution_count": null,
   "metadata": {},
   "outputs": [],
   "source": []
  },
  {
   "cell_type": "code",
   "execution_count": null,
   "metadata": {},
   "outputs": [],
   "source": []
  }
 ],
 "metadata": {
  "kernelspec": {
   "display_name": "Python 3",
   "language": "python",
   "name": "python3"
  },
  "language_info": {
   "codemirror_mode": {
    "name": "ipython",
    "version": 3
   },
   "file_extension": ".py",
   "mimetype": "text/x-python",
   "name": "python",
   "nbconvert_exporter": "python",
   "pygments_lexer": "ipython3",
   "version": "3.8.3"
  }
 },
 "nbformat": 4,
 "nbformat_minor": 4
}
