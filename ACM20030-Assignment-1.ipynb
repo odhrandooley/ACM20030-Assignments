{
 "cells": [
  {
   "cell_type": "markdown",
   "metadata": {},
   "source": [
    "# ACM20030 Assignment 1\n",
    "__Intoduction to Python__"
   ]
  },
  {
   "cell_type": "markdown",
   "metadata": {},
   "source": [
    "## Question 0"
   ]
  },
  {
   "cell_type": "code",
   "execution_count": 2,
   "metadata": {},
   "outputs": [],
   "source": [
    "# import NumPy\n",
    "import numpy as np\n",
    "# import Matplotlib\n",
    "import matplotlib.pyplot as plt"
   ]
  },
  {
   "cell_type": "markdown",
   "metadata": {},
   "source": [
    "## Question 1 "
   ]
  },
  {
   "cell_type": "code",
   "execution_count": 8,
   "metadata": {},
   "outputs": [],
   "source": [
    "## Part a\n",
    "# Defining a function to compute length of vector (x,y)\n",
    "def VectorLength(x,y):\n",
    "    result = np.sqrt(x**2 + y**2)\n",
    "    return result"
   ]
  },
  {
   "cell_type": "code",
   "execution_count": 12,
   "metadata": {},
   "outputs": [
    {
     "name": "stdout",
     "output_type": "stream",
     "text": [
      "Length of Vector (5,6) =  7.810249675906654\n",
      "\n",
      "Length of Vector (-1,5) =  5.0990195135927845\n"
     ]
    }
   ],
   "source": [
    "## Part b i \n",
    "# Computing length of vector v = (5,6)\n",
    "print(\"Length of Vector (5,6) = \" , VectorLength(5,6))\n",
    "print(\"\")\n",
    "## Part b ii\n",
    "# Computing length of vector v = (-1,5)\n",
    "print(\"Length of Vector (-1,5) = \" , VectorLength(-1,5))"
   ]
  },
  {
   "cell_type": "code",
   "execution_count": 13,
   "metadata": {},
   "outputs": [
    {
     "name": "stdout",
     "output_type": "stream",
     "text": [
      "Sin(1) = 0.841\n"
     ]
    }
   ],
   "source": [
    "## Part c\n",
    "# Printing Sin(1) to 3 decimal places\n",
    "print(\"Sin(1) = %.3f\" % np.sin(1))"
   ]
  }
 ],
 "metadata": {
  "kernelspec": {
   "display_name": "Python 3",
   "language": "python",
   "name": "python3"
  },
  "language_info": {
   "codemirror_mode": {
    "name": "ipython",
    "version": 3
   },
   "file_extension": ".py",
   "mimetype": "text/x-python",
   "name": "python",
   "nbconvert_exporter": "python",
   "pygments_lexer": "ipython3",
   "version": "3.8.3"
  }
 },
 "nbformat": 4,
 "nbformat_minor": 4
}
