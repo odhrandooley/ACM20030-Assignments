{
 "cells": [
  {
   "cell_type": "markdown",
   "metadata": {},
   "source": [
    "# ACM20030 - Midterm 2 - 2020\n",
    "\n",
    "This midterm exam starts at 5pm on Monday 7th of December and lasts **50 minutes** until 5:50pm. Ten additional minutes are given at the end for you to upload the `Midterm2.ipynb` to BrightSpace by 6pm.\n",
    "\n",
    "Save your notebook regularly as you are solving the problems.\n",
    "\n",
    "I recommend you have a pen and paper handy to make small calculations (these do not need to be handed in).\n",
    "\n",
    "The marks for each question are given in square brackets at the start of each question. The total marks for the test is 31.\n",
    "\n",
    "You must complete the test indivudually. No contact with other class members, or anyone else, is allowed during the test.\n",
    "\n",
    "When you finish the test you must upload your completed `Midterm2.ipynb` to BrightSpace. You can find the place to upload the file under the Assessments Tab -> Midterm2.\n",
    "\n",
    "If there are any issues with uploading the midterm to BrightSpace. Please email me your completed Midterm2.ipynb before 6pm. My email address is niels.warburton@ucd.ie. Please include your student number if you email the test to me.\n",
    "\n",
    "---\n",
    "\n",
    "If you find it useful to do so you may view the [course examples](https://github.com/nielsw2/ACM20030-Examples) for reference. You may also view the NumPy and Matplotlib documentation if you want.  You should not use the internet to search for solutions. It is usually quite obvious when a student hands in code they have copied from, e.g., StackExchange. Please do not do this. If you hand in an answer that is copied from a webpage you will receive zero marks for that entire question.\n",
    "\n",
    "You **may not** use any other Python libraries other than NumPy (including linalg) and Matplotlib. \n",
    "\n",
    "Please enter your student number in the cell below and run the two cells below that to load the libraries. By entering your student number below you agree to not work with, copy from, or plagarise anyone else during the test."
   ]
  },
  {
   "cell_type": "code",
   "execution_count": 43,
   "metadata": {},
   "outputs": [],
   "source": [
    "# Enter student number below\n",
    "# 19337426"
   ]
  },
  {
   "cell_type": "code",
   "execution_count": 44,
   "metadata": {},
   "outputs": [],
   "source": [
    "# Import NumPy, linalg and matplotlib\n",
    "import numpy as np\n",
    "from numpy import linalg as la\n",
    "import matplotlib.pyplot as plt"
   ]
  },
  {
   "cell_type": "code",
   "execution_count": 45,
   "metadata": {},
   "outputs": [],
   "source": [
    "# The below two lines set the default size and font size for matplotlib\n",
    "plt.rcParams['figure.figsize'] = (16.0, 10.0)\n",
    "plt.rcParams.update({'font.size': 22})"
   ]
  },
  {
   "cell_type": "markdown",
   "metadata": {},
   "source": [
    "# Question 1: ordinary differential equations (ODEs)\n",
    "\n",
    "In the lectures we looked at RK2 and RK4 Runge-Kutta methods for solving ordinary differential equations of the form\n",
    "\n",
    "$$ y'(x) = f(x,y)$$\n",
    "\n",
    "Below is the algorithm for an **RK3** method:\n",
    "\n",
    "\\begin{align}\n",
    "    x_{i+1} &= x_i + \\Delta x \\\\\n",
    "    k_1 &= f(x_i, y_i) \\\\\n",
    "    k_2 &= f\\left(x_i + \\tfrac{\\Delta x}{2}, y_i + \\tfrac{\\Delta x}{2} k_1 \\right) \\\\\n",
    "    k_3 &= f\\left(x_i + \\Delta x, y_i + \\Delta x(2k_2 - k_1) \\right) \\\\\n",
    "    y_{i+1} &= y_i + \\tfrac{\\Delta x}{6}(k_1 + 4 k_2 + k_3) \n",
    "\\end{align}"
   ]
  },
  {
   "cell_type": "markdown",
   "metadata": {},
   "source": [
    "## Q1a [2 marks]\n",
    "\n",
    "Is this RK3 algorithm an explicit or implicit method? Justify your answer."
   ]
  },
  {
   "cell_type": "code",
   "execution_count": 1,
   "metadata": {},
   "outputs": [],
   "source": [
    "# Give you answer below\n",
    "# Explict, as the equation for y(i+1) is not dependent on y(i+1), in an implicit method the value for y(i+1) depends on y(i+1)"
   ]
  },
  {
   "cell_type": "markdown",
   "metadata": {},
   "source": [
    "## Q1b [5 marks]\n",
    "\n",
    "Complete the code below to implement the RK3 method"
   ]
  },
  {
   "cell_type": "code",
   "execution_count": 61,
   "metadata": {},
   "outputs": [
    {
     "ename": "IndentationError",
     "evalue": "unexpected indent (<ipython-input-61-b01c45fce7d4>, line 2)",
     "output_type": "error",
     "traceback": [
      "\u001b[1;36m  File \u001b[1;32m\"<ipython-input-61-b01c45fce7d4>\"\u001b[1;36m, line \u001b[1;32m2\u001b[0m\n\u001b[1;33m    output = np.empty((imax, 3))\u001b[0m\n\u001b[1;37m    ^\u001b[0m\n\u001b[1;31mIndentationError\u001b[0m\u001b[1;31m:\u001b[0m unexpected indent\n"
     ]
    }
   ],
   "source": [
    "#def SecondOrderRK2(f, dx, x0, y0, imax):\n",
    "    output = np.empty((imax, 3))\n",
    "    i = 0\n",
    "    xi = x0\n",
    "    yi = y0\n",
    "    while(i < imax):\n",
    "        k1 = dx*f(xi, yi)\n",
    "        k2 = dx*f(xi + dx, yi + k1)\n",
    "        yi = yi + 0.5*(k1 + k2)\n",
    "        xi += dx\n",
    "        output[i, 0] = xi\n",
    "        output[i, 1] = yi[0]\n",
    "        output[i, 2] = yi[1]\n",
    "        i += 1\n",
    "    return output\n",
    "#using example repository as reference"
   ]
  },
  {
   "cell_type": "code",
   "execution_count": 63,
   "metadata": {},
   "outputs": [],
   "source": [
    "def RK3(f, dx, x0, y0, imax):\n",
    "    xi = x0\n",
    "    yi = y0\n",
    "    i = 0\n",
    "    while i < imax:\n",
    "        k1= f(xi,yi)\n",
    "        k2 = f(xi+dx/2,yi+dx/2*k1)\n",
    "        k3 = f(xi+dx,yi+dx*(2*k2-k1))\n",
    "        yi = yi + dx/6*(k1+4*k2+k3)\n",
    "        xi += dx\n",
    "\n",
    "        i  += 1\n",
    "        \n",
    "    return [xi, yi]"
   ]
  },
  {
   "cell_type": "markdown",
   "metadata": {},
   "source": [
    "## Q1c [3 marks]\n",
    "\n",
    "Test you RK3 function to find the solution, $y(x)$, at $x=1$ for the following ODE\n",
    "\n",
    "$$y'(x) = -2x - y\\quad\\text{where}\\quad y(0) = -1$$\n",
    "\n",
    "Use 1000 steps to find the solution."
   ]
  },
  {
   "cell_type": "code",
   "execution_count": 64,
   "metadata": {},
   "outputs": [],
   "source": [
    "def g(x,y):\n",
    "    return -2*x-y"
   ]
  },
  {
   "cell_type": "code",
   "execution_count": 65,
   "metadata": {},
   "outputs": [
    {
     "data": {
      "text/plain": [
       "[1.0000000000000007, -1.103638323468305]"
      ]
     },
     "execution_count": 65,
     "metadata": {},
     "output_type": "execute_result"
    }
   ],
   "source": [
    "sol = RK3(g, .001, 0, -1, 1000)\n",
    "sol"
   ]
  },
  {
   "cell_type": "markdown",
   "metadata": {},
   "source": [
    "## Q1d [2 marks]\n",
    "\n",
    "Find the relative difference between you numerical solution at $x=1$ and the true result given by the analytic solution to the ODE:\n",
    "\n",
    "$$ y(x) = 2 - 3e^{-x} - 2x$$"
   ]
  },
  {
   "cell_type": "code",
   "execution_count": 66,
   "metadata": {},
   "outputs": [
    {
     "name": "stdout",
     "output_type": "stream",
     "text": [
      "Error = 4.6022075039786614e-11\n"
     ]
    }
   ],
   "source": [
    "exact = 2-3*np.e**-(1)-2*(1)\n",
    "error = np.abs(exact - sol[1])\n",
    "print(\"Error = \" +str(error))"
   ]
  },
  {
   "cell_type": "code",
   "execution_count": null,
   "metadata": {},
   "outputs": [],
   "source": []
  },
  {
   "cell_type": "markdown",
   "metadata": {},
   "source": [
    "# Question 2 : numerical integration\n",
    "\n",
    "Use the below `NIntegrate` function to answer the Q2 questions."
   ]
  },
  {
   "cell_type": "code",
   "execution_count": 67,
   "metadata": {},
   "outputs": [],
   "source": [
    "def NIntegrate(f, a, b, N, method='Simpsons'):\n",
    "    dx = (b-a)/N\n",
    "    xi = a\n",
    "    i = 0\n",
    "    area = 0\n",
    "    while i < N:\n",
    "        if(method == 'Simpsons'):\n",
    "            area += dx/6*(f(xi) + 4*f((2*xi+dx)/2) + f(xi+dx))\n",
    "        elif(method == 'midpoint'):\n",
    "            area += dx * f(xi+dx/2)\n",
    "        elif(method == 'trapezoidal'):\n",
    "            area += dx/2 * (f(xi) + f(xi+dx))\n",
    "        xi += dx\n",
    "        i+= 1\n",
    "    return area"
   ]
  },
  {
   "cell_type": "markdown",
   "metadata": {},
   "source": [
    "## Q2a [3 marks]\n",
    "\n",
    "Numerically evaluate the following integral using the **midpoint** method with 1000 strips\n",
    "\n",
    "$$\\int_0^{\\pi/2} \\sin(2x)\\,dx $$\n",
    "\n",
    "Also compute the relative error with respect to the true answer"
   ]
  },
  {
   "cell_type": "code",
   "execution_count": 68,
   "metadata": {},
   "outputs": [
    {
     "data": {
      "text/plain": [
       "1.000000411233647"
      ]
     },
     "execution_count": 68,
     "metadata": {},
     "output_type": "execute_result"
    }
   ],
   "source": [
    "def f(x):\n",
    "    return np.sin(2*x)\n",
    "\n",
    "ans = NIntegrate(f, 0, np.pi/2,1000, \"midpoint\")\n",
    "ans"
   ]
  },
  {
   "cell_type": "code",
   "execution_count": 69,
   "metadata": {},
   "outputs": [
    {
     "name": "stdout",
     "output_type": "stream",
     "text": [
      "Error = 4.112336469130895e-07\n"
     ]
    }
   ],
   "source": [
    "#Analytical result is cos(2x)/-2\n",
    "exact = np.cos(np.pi)/(-2)-np.cos(0)/(-2)\n",
    "error = np.abs(exact- ans)\n",
    "print(\"Error = \" +str(error))"
   ]
  },
  {
   "cell_type": "markdown",
   "metadata": {},
   "source": [
    "## Q2b [4 marks]\n",
    "\n",
    "There is another (less efficient) form of Simpson's method known as the Simpson's 3/8ths rule. This rule gives the area for each strip as:\n",
    "\n",
    "$$ I_i = \\frac{\\Delta x}{8} \\left( f(x_i) + 3f\\left(x_i + \\tfrac{\\Delta x}{3}\\right) + 3f\\left(x_i + \\tfrac{2\\Delta x}{3}\\right) + f(x_i + \\Delta x)  \\right) $$\n",
    "\n",
    "Modify the `NIntegrate` function above to implement the Simpson's 3/8ths rule as a new optional method."
   ]
  },
  {
   "cell_type": "code",
   "execution_count": 70,
   "metadata": {},
   "outputs": [],
   "source": [
    "def NIntegrate(f, a, b, N, method='Simpsons'):\n",
    "    dx = (b-a)/N\n",
    "    xi = a\n",
    "    i = 0\n",
    "    area = 0\n",
    "    while i < N:\n",
    "        if(method == 'Simpsons'):\n",
    "            area += dx/6*(f(xi) + 4*f((2*xi+dx)/2) + f(xi+dx))\n",
    "        elif(method == 'midpoint'):\n",
    "            area += dx * f(xi+dx/2)\n",
    "        elif(method == 'trapezoidal'):\n",
    "            area += dx/2 * (f(xi) + f(xi+dx))\n",
    "        elif(method == 'Simpsons 3/8'):\n",
    "            area += dx/8*(f(xi)+3*f(xi+dx/3)+3*f(xi+2*dx/3)+f(xi+dx))\n",
    "        xi += dx\n",
    "        i+= 1\n",
    "    return area"
   ]
  },
  {
   "cell_type": "markdown",
   "metadata": {},
   "source": [
    "## Q2c [2 marks]\n",
    "\n",
    "Test your new method by evaluating the integral given in Q2a with 1000 strips. Compute the relative error with respect to the true answer. If your answer to part Q2b is correct you should find that your approximation to the integral is much more accurate than the result in Q2a computed using the midpoint method."
   ]
  },
  {
   "cell_type": "code",
   "execution_count": 71,
   "metadata": {},
   "outputs": [
    {
     "name": "stdout",
     "output_type": "stream",
     "text": [
      "Error = 2.8199664825478976e-14\n"
     ]
    }
   ],
   "source": [
    "ans = NIntegrate(f, 0, np.pi/2,1000, \"Simpsons 3/8\")\n",
    "error = np.abs(exact - ans)\n",
    "print(\"Error = \" +str(error))\n",
    "#this method is more accurate as the absolute value of the error is much less than that of the midpoint method"
   ]
  },
  {
   "cell_type": "markdown",
   "metadata": {},
   "source": [
    "## Q2d [4 marks]\n",
    "\n",
    "Let $h(x)$ be the following continous (but not smooth) function\n",
    "\n",
    "$$ h(x) = \\begin{cases} \n",
    "      \\sin(x) & x \\leq 0 \\\\\n",
    "      -x^2 & 0\\leq x \\leq 1 \\\\\n",
    "      -\\cos(x-1) & x \\geq 1 \n",
    "   \\end{cases} $$\n",
    "   \n",
    "Define a single function for $h(x)$ which may use `if`, `elif` and `else`. Then use the `NIntegrate` function to evaluate the following integral\n",
    "\n",
    "$$ \\int_{-1}^2 h(x)\\, dx $$\n",
    "\n",
    "using 3000 strips.\n",
    "\n",
    "Hint: for full marks perform the integration over three seperate regions and use 1000 strips per region."
   ]
  },
  {
   "cell_type": "code",
   "execution_count": 72,
   "metadata": {},
   "outputs": [],
   "source": [
    "def h(x):\n",
    "    if x <= 0:\n",
    "        return np.sin(x)\n",
    "    else:\n",
    "        if x <= 1:\n",
    "            return -x**2\n",
    "        else:\n",
    "            return -np.cos(x-1)"
   ]
  },
  {
   "cell_type": "code",
   "execution_count": 73,
   "metadata": {},
   "outputs": [
    {
     "name": "stdout",
     "output_type": "stream",
     "text": [
      "Integral = -1.6345020122731246\n"
     ]
    }
   ],
   "source": [
    "I = NIntegrate(h,-1,0,1000)+NIntegrate(h,0,1,1000)+NIntegrate(h,1,2,1000)\n",
    "\n",
    "#using three integrals with bounds -1 to 0, 0 to 1, and 1 to 2\n",
    "\n",
    "print(\"Integral = \" +str(I))"
   ]
  },
  {
   "cell_type": "code",
   "execution_count": null,
   "metadata": {},
   "outputs": [],
   "source": []
  },
  {
   "cell_type": "markdown",
   "metadata": {},
   "source": [
    "# Q3 eigensystems\n",
    "\n",
    "## Q3a [2 marks]\n",
    "\n",
    "Without computing the inverse or determinant of the matrix $M$ check if numerically inverting $M$ will lead to large numerical errors. You can use any function from `linalg` to make the check. Justify your answer"
   ]
  },
  {
   "cell_type": "code",
   "execution_count": 59,
   "metadata": {},
   "outputs": [],
   "source": [
    "M = np.array([\n",
    "    [0.755378492705379, 0.6134083399272159, 0.581809153982142],\n",
    "    [2.0255256015498575, 0.78939010095135, 0.7399156829587783],\n",
    "    [0.8467647392295856, 0.11732117401602271, 0.10540435265102421]])"
   ]
  },
  {
   "cell_type": "code",
   "execution_count": 74,
   "metadata": {},
   "outputs": [
    {
     "name": "stdout",
     "output_type": "stream",
     "text": [
      "Condition number = 1492169268492301.2\n"
     ]
    }
   ],
   "source": [
    "Cond = la.cond(M,2)\n",
    "print(\"Condition number = \" +str(Cond))\n",
    "#M has a very large condition number so it is ill defined and will have large numerical errors"
   ]
  },
  {
   "cell_type": "markdown",
   "metadata": {},
   "source": [
    "## Q3b [4 marks]\n",
    "\n",
    "Let $\\lambda_i$ be the eigenvalues of the matrix $B$ and $e_i$ be the eigenvectors of $B$.\n",
    "\n",
    "For the matrix $B$ given below show that $P^{-1} B P = D$ where $D = \\text{diag}(\\lambda_1, \\lambda_2, \\lambda_3)$ and $P$ is a matrix whose **columns** are the eigenvectors of B. \n",
    "\n",
    "A good way to answer this question is to show that $P^{-1} B P - D = 0$ (to within machine precision).\n",
    "\n",
    "Reminder: the `la.eig()` function returns the eigenvalues and eigenvectors, and the eigenvectors are stored as the columns of a matrix.\n",
    "\n",
    "Hint: you might find `np.identity(n)` useful for constructing an $n\\times n$ identity matrix"
   ]
  },
  {
   "cell_type": "code",
   "execution_count": 75,
   "metadata": {},
   "outputs": [],
   "source": [
    "B = np.array([[1.7, 2.5, 2.4], [5.5, 1.2, 8.8], [6.1, 4.7, 2.4]])"
   ]
  },
  {
   "cell_type": "code",
   "execution_count": 76,
   "metadata": {},
   "outputs": [
    {
     "data": {
      "text/plain": [
       "array([[ 1.24344979e-14,  4.44089210e-15, -3.10862447e-15],\n",
       "       [ 5.55111512e-15, -2.44249065e-15,  1.22124533e-15],\n",
       "       [-1.33226763e-15,  2.22044605e-16, -8.88178420e-16]])"
      ]
     },
     "execution_count": 76,
     "metadata": {},
     "output_type": "execute_result"
    }
   ],
   "source": [
    "EigVal, EigVec = la.eig(B)\n",
    "\n",
    "P = EigVec\n",
    "\n",
    "D = np.identity(3)\n",
    "D[0,0]=EigVal[0]\n",
    "D[1,1]=EigVal[1]\n",
    "D[2,2]=EigVal[2]\n",
    "\n",
    "(la.inv(P)@B@P)-D\n",
    "\n",
    "#the values in the below array are approx zero (to machine precision) so the statement is verified"
   ]
  },
  {
   "cell_type": "markdown",
   "metadata": {},
   "source": [
    "# Submission\n",
    "\n",
    "You must upload your completed `Midterm2.ipynb` to BrightSpace. You can find the place to upload the file under the Assessments Tab -> Midterm2.\n",
    "\n",
    "If there are any issues with uploading the midterm to BrightSpace. Please email me your completed Midterm2.ipynb. My email address is niels.warburton@ucd.ie."
   ]
  },
  {
   "cell_type": "code",
   "execution_count": null,
   "metadata": {},
   "outputs": [],
   "source": []
  }
 ],
 "metadata": {
  "kernelspec": {
   "display_name": "Python 3",
   "language": "python",
   "name": "python3"
  },
  "language_info": {
   "codemirror_mode": {
    "name": "ipython",
    "version": 3
   },
   "file_extension": ".py",
   "mimetype": "text/x-python",
   "name": "python",
   "nbconvert_exporter": "python",
   "pygments_lexer": "ipython3",
   "version": "3.8.3"
  }
 },
 "nbformat": 4,
 "nbformat_minor": 2
}
