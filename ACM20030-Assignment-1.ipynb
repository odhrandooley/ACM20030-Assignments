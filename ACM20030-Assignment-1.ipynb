{
 "cells": [
  {
   "cell_type": "markdown",
   "metadata": {},
   "source": [
    "# ACM20030 Assignment 1\n",
    "__Intoduction to Python__"
   ]
  },
  {
   "cell_type": "markdown",
   "metadata": {},
   "source": [
    "## Question 0"
   ]
  },
  {
   "cell_type": "code",
   "execution_count": 1,
   "metadata": {},
   "outputs": [],
   "source": [
    "# import NumPy\n",
    "import numpy as np\n",
    "# import Matplotlib\n",
    "import matplotlib.pyplot as plt"
   ]
  },
  {
   "cell_type": "markdown",
   "metadata": {},
   "source": [
    "## Question 1 "
   ]
  },
  {
   "cell_type": "code",
   "execution_count": 2,
   "metadata": {},
   "outputs": [],
   "source": [
    "## Part a\n",
    "# Defining a function to compute length of vector (x,y)\n",
    "def VectorLength(x,y):\n",
    "    result = np.sqrt(x**2 + y**2)\n",
    "    return result"
   ]
  },
  {
   "cell_type": "code",
   "execution_count": 3,
   "metadata": {},
   "outputs": [
    {
     "name": "stdout",
     "output_type": "stream",
     "text": [
      "Length of Vector (5,6) =  7.810249675906654\n",
      "\n",
      "Length of Vector (-1,5) =  5.0990195135927845\n"
     ]
    }
   ],
   "source": [
    "## Part b i \n",
    "# Computing length of vector v = (5,6)\n",
    "print(\"Length of Vector (5,6) = \" , VectorLength(5,6))\n",
    "print(\"\")\n",
    "## Part b ii\n",
    "# Computing length of vector v = (-1,5)\n",
    "print(\"Length of Vector (-1,5) = \" , VectorLength(-1,5))"
   ]
  },
  {
   "cell_type": "code",
   "execution_count": 4,
   "metadata": {},
   "outputs": [
    {
     "name": "stdout",
     "output_type": "stream",
     "text": [
      "Sin(1) = 0.841\n"
     ]
    }
   ],
   "source": [
    "## Part c\n",
    "# Printing Sin(1) to 3 decimal places\n",
    "print(\"Sin(1) = %.3f\" % np.sin(1))"
   ]
  },
  {
   "cell_type": "markdown",
   "metadata": {},
   "source": [
    "## Question 2"
   ]
  },
  {
   "cell_type": "code",
   "execution_count": 5,
   "metadata": {},
   "outputs": [],
   "source": [
    "## Inserting function from Assignment 1, Q2\n",
    "\n",
    "# Fuction to check if a number is prime\n",
    "def IsPrime(n):\n",
    "    i=2\n",
    "    while i < np.sqrt(n):\n",
    "        # For each i check if it divides n\n",
    "        if(n % i == 0):\n",
    "            return 0\n",
    "        i += 1\n",
    "    # If no divisors are found, the number is prime\n",
    "    return 1"
   ]
  },
  {
   "cell_type": "code",
   "execution_count": 6,
   "metadata": {},
   "outputs": [
    {
     "name": "stdout",
     "output_type": "stream",
     "text": [
      "1 = 1\n",
      "2 = 1\n",
      "3 = 1\n",
      "4 = 1\n",
      "5 = 1\n",
      "6 = 0\n",
      "7 = 1\n",
      "8 = 0\n",
      "9 = 1\n",
      "10 = 0\n"
     ]
    }
   ],
   "source": [
    "## Part a\n",
    "# Checking functions work from n = 1 to 10\n",
    "for n in range(1,11):\n",
    "    print(n,\"=\",IsPrime(n))\n",
    "#How would i get it so it determines if True/False e.g. if 1 = 1(prime) then return Incorrect\n"
   ]
  },
  {
   "cell_type": "code",
   "execution_count": 7,
   "metadata": {},
   "outputs": [
    {
     "name": "stdout",
     "output_type": "stream",
     "text": [
      "1 = 0\n",
      "2 = 1\n",
      "3 = 1\n",
      "4 = 1\n",
      "5 = 1\n",
      "6 = 0\n",
      "7 = 1\n",
      "8 = 0\n",
      "9 = 1\n",
      "10 = 0\n"
     ]
    }
   ],
   "source": [
    "## Part b\n",
    "def IsPrime1(n):\n",
    "    # adding an if statement to correct n = 1 case \n",
    "    if(n == 1):\n",
    "        return 0\n",
    "    i = 2\n",
    "    while i < np.sqrt(n):\n",
    "        # For each i check if it divides n\n",
    "        if(n % i == 0):\n",
    "            return 0\n",
    "        i += 1\n",
    "    # If no divisors are found, the number is prime\n",
    "    return 1\n",
    "for n in range(1,11):\n",
    "    print(n,\"=\",IsPrime1(n))"
   ]
  },
  {
   "cell_type": "code",
   "execution_count": 8,
   "metadata": {},
   "outputs": [
    {
     "name": "stdout",
     "output_type": "stream",
     "text": [
      "1 = 0\n",
      "2 = 1\n",
      "3 = 1\n",
      "4 = 0\n",
      "5 = 1\n",
      "6 = 0\n",
      "7 = 1\n",
      "8 = 0\n",
      "9 = 0\n",
      "10 = 0\n"
     ]
    }
   ],
   "source": [
    "## Part c\n",
    "\n",
    "def IsPrime2(n):\n",
    "    # adding an if statement to correct n = 1 case \n",
    "    if(n == 1):\n",
    "        return 0\n",
    "    i = 2\n",
    "    while i <= np.sqrt(n): # adjusted < to <=\n",
    "        # For each i check if it divides n\n",
    "        if(n % i == 0):\n",
    "            return 0\n",
    "        i += 1\n",
    "    # If no divisors are found, the number is prime\n",
    "    return 1\n",
    "for n in range(1,11):\n",
    "    print(n,\"=\",IsPrime2(n))\n",
    "    \n",
    "# used print(i), showed 9 was being divided by 2 and 4 by 1, i < np.sqrt(n) did not account for square numbers"
   ]
  },
  {
   "cell_type": "code",
   "execution_count": 17,
   "metadata": {},
   "outputs": [
    {
     "name": "stdout",
     "output_type": "stream",
     "text": [
      "List of prime numbers from 1 to 1000\n",
      "2\n",
      "3\n",
      "5\n",
      "7\n",
      "11\n",
      "13\n",
      "17\n",
      "19\n",
      "23\n",
      "29\n",
      "31\n",
      "37\n",
      "41\n",
      "43\n",
      "47\n",
      "53\n",
      "59\n",
      "61\n",
      "67\n",
      "71\n",
      "73\n",
      "79\n",
      "83\n",
      "89\n",
      "97\n",
      "101\n",
      "103\n",
      "107\n",
      "109\n",
      "113\n",
      "127\n",
      "131\n",
      "137\n",
      "139\n",
      "149\n",
      "151\n",
      "157\n",
      "163\n",
      "167\n",
      "173\n",
      "179\n",
      "181\n",
      "191\n",
      "193\n",
      "197\n",
      "199\n",
      "211\n",
      "223\n",
      "227\n",
      "229\n",
      "233\n",
      "239\n",
      "241\n",
      "251\n",
      "257\n",
      "263\n",
      "269\n",
      "271\n",
      "277\n",
      "281\n",
      "283\n",
      "293\n",
      "307\n",
      "311\n",
      "313\n",
      "317\n",
      "331\n",
      "337\n",
      "347\n",
      "349\n",
      "353\n",
      "359\n",
      "367\n",
      "373\n",
      "379\n",
      "383\n",
      "389\n",
      "397\n",
      "401\n",
      "409\n",
      "419\n",
      "421\n",
      "431\n",
      "433\n",
      "439\n",
      "443\n",
      "449\n",
      "457\n",
      "461\n",
      "463\n",
      "467\n",
      "479\n",
      "487\n",
      "491\n",
      "499\n",
      "503\n",
      "509\n",
      "521\n",
      "523\n",
      "541\n",
      "547\n",
      "557\n",
      "563\n",
      "569\n",
      "571\n",
      "577\n",
      "587\n",
      "593\n",
      "599\n",
      "601\n",
      "607\n",
      "613\n",
      "617\n",
      "619\n",
      "631\n",
      "641\n",
      "643\n",
      "647\n",
      "653\n",
      "659\n",
      "661\n",
      "673\n",
      "677\n",
      "683\n",
      "691\n",
      "701\n",
      "709\n",
      "719\n",
      "727\n",
      "733\n",
      "739\n",
      "743\n",
      "751\n",
      "757\n",
      "761\n",
      "769\n",
      "773\n",
      "787\n",
      "797\n",
      "809\n",
      "811\n",
      "821\n",
      "823\n",
      "827\n",
      "829\n",
      "839\n",
      "853\n",
      "857\n",
      "859\n",
      "863\n",
      "877\n",
      "881\n",
      "883\n",
      "887\n",
      "907\n",
      "911\n",
      "919\n",
      "929\n",
      "937\n",
      "941\n",
      "947\n",
      "953\n",
      "967\n",
      "971\n",
      "977\n",
      "983\n",
      "991\n",
      "997\n",
      "\n",
      "Sum of prime numbers from 1 to 1000\n",
      "76127\n"
     ]
    }
   ],
   "source": [
    "## Part e\n",
    "print(\"List of prime numbers from 1 to 1000\" )\n",
    "#Creating an array to facilitate addition\n",
    "a = np.array([0,0])\n",
    "#Determining range, whole numbers from 1 to 1000\n",
    "for n in range(1,1001):\n",
    "    #Restricting function only to where n is prime\n",
    "    if IsPrime2(n)==1:\n",
    "        #letting n be the second value in the array\n",
    "        a[1]=n\n",
    "        #adding the newest prime number to the sum of the previous prime numbers\n",
    "        a[0]=a[0]+a[1]\n",
    "        #Printing the individual primes\n",
    "        print(n)\n",
    "print(\"\")\n",
    "print(\"Sum of prime numbers from 1 to 1000\")\n",
    "#printing the sum of primes\n",
    "print(a[0])\n"
   ]
  },
  {
   "cell_type": "code",
   "execution_count": 21,
   "metadata": {},
   "outputs": [
    {
     "name": "stdout",
     "output_type": "stream",
     "text": [
      "\n",
      "Sum of prime numbers from 1 to 1000\n",
      "168\n"
     ]
    }
   ],
   "source": [
    "## Part e\n",
    "#Creating an array to facilitate counting\n",
    "a = np.array([0])\n",
    "#Determining range, whole numbers from 1 to 1000\n",
    "for n in range(1,1001):\n",
    "    #Restricting function only to where n is prime\n",
    "    if IsPrime2(n)==1:\n",
    "        #Increasing a[0] by one for each prime number\n",
    "        a[0]=a[0]+1\n",
    "print(\"\")\n",
    "print(\"Number of prime numbers from 1 to 1000\")\n",
    "#printing the sum of primes\n",
    "print(a[0])\n"
   ]
  },
  {
   "cell_type": "code",
   "execution_count": 30,
   "metadata": {},
   "outputs": [
    {
     "name": "stdout",
     "output_type": "stream",
     "text": [
      "\n",
      "Number of prime numbers from 1 to x\n",
      "168\n",
      "\n",
      "Number of prime numbers from 1 to x\n",
      "1229\n"
     ]
    }
   ],
   "source": [
    "## Part e\n",
    "def PrimeCount(x):\n",
    "    a = np.array([0])\n",
    "    for n in range(1,x+1):\n",
    "        if IsPrime2(n)==1:\n",
    "            a[0]=a[0]+1\n",
    "    print(\"\")\n",
    "    print(\"Number of prime numbers from 1 to x\")\n",
    "    #printing the sum of primes\n",
    "    print(a[0])\n",
    "PrimeCount(1000)\n",
    "PrimeCount(10000)\n"
   ]
  },
  {
   "cell_type": "code",
   "execution_count": null,
   "metadata": {},
   "outputs": [],
   "source": []
  },
  {
   "cell_type": "code",
   "execution_count": null,
   "metadata": {},
   "outputs": [],
   "source": []
  },
  {
   "cell_type": "code",
   "execution_count": null,
   "metadata": {},
   "outputs": [],
   "source": []
  },
  {
   "cell_type": "code",
   "execution_count": null,
   "metadata": {},
   "outputs": [],
   "source": []
  },
  {
   "cell_type": "code",
   "execution_count": null,
   "metadata": {},
   "outputs": [],
   "source": []
  },
  {
   "cell_type": "code",
   "execution_count": null,
   "metadata": {},
   "outputs": [],
   "source": []
  },
  {
   "cell_type": "code",
   "execution_count": null,
   "metadata": {},
   "outputs": [],
   "source": []
  },
  {
   "cell_type": "code",
   "execution_count": null,
   "metadata": {},
   "outputs": [],
   "source": []
  },
  {
   "cell_type": "code",
   "execution_count": null,
   "metadata": {},
   "outputs": [],
   "source": []
  },
  {
   "cell_type": "code",
   "execution_count": null,
   "metadata": {},
   "outputs": [],
   "source": []
  }
 ],
 "metadata": {
  "kernelspec": {
   "display_name": "Python 3",
   "language": "python",
   "name": "python3"
  },
  "language_info": {
   "codemirror_mode": {
    "name": "ipython",
    "version": 3
   },
   "file_extension": ".py",
   "mimetype": "text/x-python",
   "name": "python",
   "nbconvert_exporter": "python",
   "pygments_lexer": "ipython3",
   "version": "3.8.3"
  }
 },
 "nbformat": 4,
 "nbformat_minor": 4
}
